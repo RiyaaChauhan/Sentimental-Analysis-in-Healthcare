{
 "cells": [
  {
   "cell_type": "code",
   "execution_count": null,
   "id": "18b30a45-ea5f-4178-bca5-f3141ba0a884",
   "metadata": {
    "scrolled": true
   },
   "outputs": [],
   "source": [
    "%pip install datasets"
   ]
  },
  {
   "cell_type": "code",
   "execution_count": null,
   "id": "8c3be225-8e3f-4227-af02-7ca19cdb9f68",
   "metadata": {
    "scrolled": true
   },
   "outputs": [],
   "source": [
    "from datasets import load_dataset\n"
   ]
  },
  {
   "cell_type": "code",
   "execution_count": 3,
   "id": "a0e8df76-c74b-4a69-8c25-75b4d59efd65",
   "metadata": {},
   "outputs": [],
   "source": [
    "# Load the McGill-NLP/medal dataset in streaming mode\n",
    "dataset = load_dataset('McGill-NLP/medal', split='train', streaming=True)"
   ]
  },
  {
   "cell_type": "code",
   "execution_count": 4,
   "id": "762fa4c8-6b65-4611-8799-2ebdafee8e3f",
   "metadata": {},
   "outputs": [
    {
     "name": "stdout",
     "output_type": "stream",
     "text": [
      "<class 'datasets.iterable_dataset.IterableDataset'>\n",
      "{'abstract_id': 14145090, 'text': 'velvet antlers vas are commonly used in traditional chinese medicine and invigorant and contain many PET components for health promotion the velvet antler peptide svap is one of active components in vas based on structural study the svap interacts with tgfÎ² receptors and disrupts the tgfÎ² pathway we hypothesized that svap prevents cardiac fibrosis from pressure overload by blocking tgfÎ² signaling SDRs underwent TAC tac or a sham operation T3 one month rats received either svap mgkgday or vehicle for an additional one month tac surgery induced significant cardiac dysfunction FB activation and fibrosis these effects were improved by treatment with svap in the heart tissue tac remarkably increased the expression of tgfÎ² and connective tissue growth factor ctgf ROS species C2 and the phosphorylation C2 of smad and ERK kinases erk svap inhibited the increases in reactive oxygen species C2 ctgf expression and the phosphorylation of smad and erk but not tgfÎ² expression in cultured cardiac fibroblasts angiotensin ii ang ii had similar effects compared to tac surgery such as increases in Î±smapositive CFs and collagen synthesis svap eliminated these effects by disrupting tgfÎ² IB to its receptors and blocking ang iitgfÎ² downstream signaling these results demonstrated that svap has antifibrotic effects by blocking the tgfÎ² pathway in CFs', 'location': [63], 'label': ['transverse aortic constriction']}\n"
     ]
    }
   ],
   "source": [
    "# Check if the dataset is defined and inspect a sample\n",
    "print(type(dataset))  # Should print something like 'datasets.iterable_dataset.IterableDataset'\n",
    "example = next(iter(dataset))  # Get the first example from the stream\n",
    "print(example)  # Print the first example"
   ]
  },
  {
   "cell_type": "code",
   "execution_count": 5,
   "id": "b52497d9-ac18-4f82-9aab-406bbb3273d5",
   "metadata": {},
   "outputs": [],
   "source": [
    "# Initialize variables to track null values\n",
    "any_null = False\n",
    "null_columns = {}"
   ]
  },
  {
   "cell_type": "code",
   "execution_count": 6,
   "id": "534cbd52-2b32-457e-9e86-d5ce437d1d2a",
   "metadata": {},
   "outputs": [],
   "source": [
    "# Iterate through the streamed dataset\n",
    "for example in dataset:\n",
    "    # Check for null values in the current row\n",
    "    for key, value in example.items():\n",
    "        if value is None:\n",
    "            any_null = True\n",
    "            if key in null_columns:\n",
    "                null_columns[key] += 1\n",
    "            else:\n",
    "                null_columns[key] = 1\n"
   ]
  },
  {
   "cell_type": "code",
   "execution_count": 5,
   "id": "d28b2b1a-fcf7-48d9-ab77-182d622592ec",
   "metadata": {},
   "outputs": [
    {
     "name": "stdout",
     "output_type": "stream",
     "text": [
      "Any null values in the dataset: False\n",
      "No null values found in the dataset.\n"
     ]
    }
   ],
   "source": [
    "# Print whether any null values were found\n",
    "print(\"Any null values in the dataset:\", any_null)\n",
    "\n",
    "# If there are null values, print which columns have them and how many\n",
    "if any_null:\n",
    "    print(\"Columns with null values and their counts:\")\n",
    "    for column, count in null_columns.items():\n",
    "        print(f\"{column}: {count} null values\")\n",
    "else:\n",
    "    print(\"No null values found in the dataset.\")\n"
   ]
  },
  {
   "cell_type": "code",
   "execution_count": 11,
   "id": "24154d5c-fde0-4200-a449-96f28f16f9f2",
   "metadata": {},
   "outputs": [
    {
     "name": "stdout",
     "output_type": "stream",
     "text": [
      "Total rows in the dataset: 3000000\n",
      "Total columns in the dataset: 4\n"
     ]
    }
   ],
   "source": [
    "# Initialize variables to count rows and columns\n",
    "row_count = 0\n",
    "column_set = set()\n",
    "\n",
    "# Iterate through the streamed dataset\n",
    "for example in dataset:\n",
    "    row_count += 1\n",
    "    column_set.update(example.keys())  # Add columns to the set (unique columns)\n",
    "\n",
    "# Convert the set to a list to get the number of unique columns\n",
    "column_count = len(column_set)\n",
    "\n",
    "# Print the results\n",
    "print(f\"Total rows in the dataset: {row_count}\")\n",
    "print(f\"Total columns in the dataset: {column_count}\")\n"
   ]
  },
  {
   "cell_type": "code",
   "execution_count": 13,
   "id": "e84f4431-a058-4e36-8511-15decb46593b",
   "metadata": {},
   "outputs": [
    {
     "name": "stdout",
     "output_type": "stream",
     "text": [
      "3rd Record:\n",
      "{'abstract_id': 8625554, 'text': 'ceftobiprole bpr is an investigational cephalosporin with activity against staphylococcus aureus including methicillinresistant s aureus mrsa strains the pharmacodynamic pd profile of bpr against s aureus strains with a variety of susceptibility phenotypes in an immunocompromised murine pneumonia model was characterized the bpr mics of the test isolates ranged from to mugml pharmacokinetic pk studies were conducted with infected neutropenic balbc mice and the bpr concentrations were measured in plasma epithelial lining fluid elf and lung tissue pd studies with these mice were undertaken with eight s aureus isolates two MSSA strains three hospitalacquired mrsa strains and three CA mrsa strains subcutaneous bpr doses of to mgkg of body weightday were administered and the NC in the number of log cfuml in lungs was evaluated after h of therapy the pd profile was characterized by using the free drug exposures f determined from the following parameters the percentage of time that the concentration was greater than the mic t mic the Cmax in serummic and the area under the concentrationtime curvemic the bpr pk parameters were linear over the dose range studied in plasma and the elf concentrations ranged from to of the free plasma concentration ft mic was the parameter that best correlated with tau against a diverse array of s aureus isolates in this mu pneumonia model the effective dose ed ed and stasis exposures appeared to be similar among the isolates studied bpr exerted maximal antibacterial effects when ft mic ranged from to regardless of the phenotypic profile of resistance to betalactam fluoroquinolone erythromycin clindamycin or TCs', 'location': [90], 'label': ['methicillinsusceptible s aureus']}\n"
     ]
    }
   ],
   "source": [
    "# checking randomly for a value (in this case third record value)\n",
    "# Initialize a counter\n",
    "counter = 0\n",
    "third_record = None\n",
    "\n",
    "# Iterate through the dataset to get the 3rd record\n",
    "for example in dataset:\n",
    "    counter += 1\n",
    "    if counter == 3:\n",
    "        third_record = example\n",
    "        break\n",
    "\n",
    "# Print the 3rd record\n",
    "if third_record:\n",
    "    print(\"3rd Record:\")\n",
    "    print(third_record)\n",
    "else:\n",
    "    print(\"The dataset has fewer than 3 records.\")\n"
   ]
  },
  {
   "cell_type": "code",
   "execution_count": 12,
   "id": "b66c7e44-b80e-4c34-b5de-e52095f07735",
   "metadata": {},
   "outputs": [
    {
     "name": "stdout",
     "output_type": "stream",
     "text": [
      "Column names: ['abstract_id', 'text', 'location', 'label']\n"
     ]
    }
   ],
   "source": [
    "# Get the first example from the dataset to determine column names\n",
    "first_example = next(iter(dataset))\n",
    "\n",
    "# Print the column names\n",
    "column_names = list(first_example.keys())\n",
    "print(\"Column names:\", column_names)\n"
   ]
  },
  {
   "cell_type": "code",
   "execution_count": null,
   "id": "50fcba01-ab28-4987-b0f8-9419952ab543",
   "metadata": {},
   "outputs": [],
   "source": [
    "# Example code to check for null values in each column\n",
    "null_counts = {column: 0 for column in ['abstract_id', 'text', 'location', 'label']}\n",
    "for example in dataset:\n",
    "    for column in null_counts:\n",
    "        if example[column] is None:\n",
    "            null_counts[column] += 1\n",
    "print(\"Null values per column:\", null_counts)\n"
   ]
  },
  {
   "cell_type": "code",
   "execution_count": null,
   "id": "f945ee84-1d98-4651-ab44-5b30c96e5582",
   "metadata": {},
   "outputs": [],
   "source": [
    "# Preview the first few records\n",
    "preview_count = 5  # Number of records to preview\n",
    "preview_data = [next(iter(dataset)) for _ in range(preview_count)]\n",
    "for record in preview_data:\n",
    "    print(record)\n"
   ]
  },
  {
   "cell_type": "code",
   "execution_count": null,
   "id": "758c14e3-2a07-483e-975c-6170233ffaea",
   "metadata": {},
   "outputs": [],
   "source": []
  }
 ],
 "metadata": {
  "kernelspec": {
   "display_name": "Python 3 (ipykernel)",
   "language": "python",
   "name": "python3"
  },
  "language_info": {
   "codemirror_mode": {
    "name": "ipython",
    "version": 3
   },
   "file_extension": ".py",
   "mimetype": "text/x-python",
   "name": "python",
   "nbconvert_exporter": "python",
   "pygments_lexer": "ipython3",
   "version": "3.12.4"
  }
 },
 "nbformat": 4,
 "nbformat_minor": 5
}
