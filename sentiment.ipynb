{
 "cells": [
  {
   "cell_type": "code",
   "execution_count": null,
   "id": "18b30a45-ea5f-4178-bca5-f3141ba0a884",
   "metadata": {
    "scrolled": true
   },
   "outputs": [],
   "source": [
    "%pip install datasets"
   ]
  },
  {
   "cell_type": "code",
   "execution_count": 2,
   "id": "8c3be225-8e3f-4227-af02-7ca19cdb9f68",
   "metadata": {
    "scrolled": true
   },
   "outputs": [
    {
     "name": "stderr",
     "output_type": "stream",
     "text": [
      "c:\\Users\\riyac\\Desktop\\Sentimental-Analysis in Healthcare\\venv\\Lib\\site-packages\\tqdm\\auto.py:21: TqdmWarning: IProgress not found. Please update jupyter and ipywidgets. See https://ipywidgets.readthedocs.io/en/stable/user_install.html\n",
      "  from .autonotebook import tqdm as notebook_tqdm\n"
     ]
    }
   ],
   "source": [
    "from datasets import load_dataset\n"
   ]
  },
  {
   "cell_type": "code",
   "execution_count": 3,
   "id": "a0e8df76-c74b-4a69-8c25-75b4d59efd65",
   "metadata": {},
   "outputs": [],
   "source": [
    "# Load the McGill-NLP/medal dataset in streaming mode\n",
    "dataset = load_dataset('McGill-NLP/medal', split='train', streaming=True)"
   ]
  },
  {
   "cell_type": "code",
   "execution_count": 4,
   "id": "762fa4c8-6b65-4611-8799-2ebdafee8e3f",
   "metadata": {},
   "outputs": [
    {
     "name": "stdout",
     "output_type": "stream",
     "text": [
      "<class 'datasets.iterable_dataset.IterableDataset'>\n",
      "{'abstract_id': 14145090, 'text': 'velvet antlers vas are commonly used in traditional chinese medicine and invigorant and contain many PET components for health promotion the velvet antler peptide svap is one of active components in vas based on structural study the svap interacts with tgfÎ² receptors and disrupts the tgfÎ² pathway we hypothesized that svap prevents cardiac fibrosis from pressure overload by blocking tgfÎ² signaling SDRs underwent TAC tac or a sham operation T3 one month rats received either svap mgkgday or vehicle for an additional one month tac surgery induced significant cardiac dysfunction FB activation and fibrosis these effects were improved by treatment with svap in the heart tissue tac remarkably increased the expression of tgfÎ² and connective tissue growth factor ctgf ROS species C2 and the phosphorylation C2 of smad and ERK kinases erk svap inhibited the increases in reactive oxygen species C2 ctgf expression and the phosphorylation of smad and erk but not tgfÎ² expression in cultured cardiac fibroblasts angiotensin ii ang ii had similar effects compared to tac surgery such as increases in Î±smapositive CFs and collagen synthesis svap eliminated these effects by disrupting tgfÎ² IB to its receptors and blocking ang iitgfÎ² downstream signaling these results demonstrated that svap has antifibrotic effects by blocking the tgfÎ² pathway in CFs', 'location': [63], 'label': ['transverse aortic constriction']}\n"
     ]
    }
   ],
   "source": [
    "# Check if the dataset is defined and inspect a sample\n",
    "print(type(dataset))  # Should print something like 'datasets.iterable_dataset.IterableDataset'\n",
    "example = next(iter(dataset))  # Get the first example from the stream\n",
    "print(example)  # Print the first example"
   ]
  },
  {
   "cell_type": "code",
   "execution_count": 5,
   "id": "b52497d9-ac18-4f82-9aab-406bbb3273d5",
   "metadata": {},
   "outputs": [],
   "source": [
    "# Initialize variables to track null values\n",
    "any_null = False\n",
    "null_columns = {}"
   ]
  },
  {
   "cell_type": "code",
   "execution_count": 6,
   "id": "534cbd52-2b32-457e-9e86-d5ce437d1d2a",
   "metadata": {},
   "outputs": [],
   "source": [
    "# Iterate through the streamed dataset\n",
    "for example in dataset:\n",
    "    # Check for null values in the current row\n",
    "    for key, value in example.items():\n",
    "        if value is None:\n",
    "            any_null = True\n",
    "            if key in null_columns:\n",
    "                null_columns[key] += 1\n",
    "            else:\n",
    "                null_columns[key] = 1\n"
   ]
  },
  {
   "cell_type": "code",
   "execution_count": 5,
   "id": "d28b2b1a-fcf7-48d9-ab77-182d622592ec",
   "metadata": {},
   "outputs": [
    {
     "name": "stdout",
     "output_type": "stream",
     "text": [
      "Any null values in the dataset: False\n",
      "No null values found in the dataset.\n"
     ]
    }
   ],
   "source": [
    "# Print whether any null values were found\n",
    "print(\"Any null values in the dataset:\", any_null)\n",
    "\n",
    "# If there are null values, print which columns have them and how many\n",
    "if any_null:\n",
    "    print(\"Columns with null values and their counts:\")\n",
    "    for column, count in null_columns.items():\n",
    "        print(f\"{column}: {count} null values\")\n",
    "else:\n",
    "    print(\"No null values found in the dataset.\")\n"
   ]
  },
  {
   "cell_type": "code",
   "execution_count": 11,
   "id": "24154d5c-fde0-4200-a449-96f28f16f9f2",
   "metadata": {},
   "outputs": [
    {
     "name": "stdout",
     "output_type": "stream",
     "text": [
      "Total rows in the dataset: 3000000\n",
      "Total columns in the dataset: 4\n"
     ]
    }
   ],
   "source": [
    "# Initialize variables to count rows and columns\n",
    "row_count = 0\n",
    "column_set = set()\n",
    "\n",
    "# Iterate through the streamed dataset\n",
    "for example in dataset:\n",
    "    row_count += 1\n",
    "    column_set.update(example.keys())  # Add columns to the set (unique columns)\n",
    "\n",
    "# Convert the set to a list to get the number of unique columns\n",
    "column_count = len(column_set)\n",
    "\n",
    "# Print the results\n",
    "print(f\"Total rows in the dataset: {row_count}\")\n",
    "print(f\"Total columns in the dataset: {column_count}\")\n"
   ]
  },
  {
   "cell_type": "code",
   "execution_count": 13,
   "id": "e84f4431-a058-4e36-8511-15decb46593b",
   "metadata": {},
   "outputs": [
    {
     "name": "stdout",
     "output_type": "stream",
     "text": [
      "3rd Record:\n",
      "{'abstract_id': 8625554, 'text': 'ceftobiprole bpr is an investigational cephalosporin with activity against staphylococcus aureus including methicillinresistant s aureus mrsa strains the pharmacodynamic pd profile of bpr against s aureus strains with a variety of susceptibility phenotypes in an immunocompromised murine pneumonia model was characterized the bpr mics of the test isolates ranged from to mugml pharmacokinetic pk studies were conducted with infected neutropenic balbc mice and the bpr concentrations were measured in plasma epithelial lining fluid elf and lung tissue pd studies with these mice were undertaken with eight s aureus isolates two MSSA strains three hospitalacquired mrsa strains and three CA mrsa strains subcutaneous bpr doses of to mgkg of body weightday were administered and the NC in the number of log cfuml in lungs was evaluated after h of therapy the pd profile was characterized by using the free drug exposures f determined from the following parameters the percentage of time that the concentration was greater than the mic t mic the Cmax in serummic and the area under the concentrationtime curvemic the bpr pk parameters were linear over the dose range studied in plasma and the elf concentrations ranged from to of the free plasma concentration ft mic was the parameter that best correlated with tau against a diverse array of s aureus isolates in this mu pneumonia model the effective dose ed ed and stasis exposures appeared to be similar among the isolates studied bpr exerted maximal antibacterial effects when ft mic ranged from to regardless of the phenotypic profile of resistance to betalactam fluoroquinolone erythromycin clindamycin or TCs', 'location': [90], 'label': ['methicillinsusceptible s aureus']}\n"
     ]
    }
   ],
   "source": [
    "# checking randomly for a value (in this case third record value)\n",
    "# Initialize a counter\n",
    "counter = 0\n",
    "third_record = None\n",
    "\n",
    "# Iterate through the dataset to get the 3rd record\n",
    "for example in dataset:\n",
    "    counter += 1\n",
    "    if counter == 3:\n",
    "        third_record = example\n",
    "        break\n",
    "\n",
    "# Print the 3rd record\n",
    "if third_record:\n",
    "    print(\"3rd Record:\")\n",
    "    print(third_record)\n",
    "else:\n",
    "    print(\"The dataset has fewer than 3 records.\")\n"
   ]
  },
  {
   "cell_type": "code",
   "execution_count": 12,
   "id": "b66c7e44-b80e-4c34-b5de-e52095f07735",
   "metadata": {},
   "outputs": [
    {
     "name": "stdout",
     "output_type": "stream",
     "text": [
      "Column names: ['abstract_id', 'text', 'location', 'label']\n"
     ]
    }
   ],
   "source": [
    "# Get the first example from the dataset to determine column names\n",
    "first_example = next(iter(dataset))\n",
    "\n",
    "# Print the column names\n",
    "column_names = list(first_example.keys())\n",
    "print(\"Column names:\", column_names)\n"
   ]
  },
  {
   "cell_type": "code",
   "execution_count": 8,
   "id": "50fcba01-ab28-4987-b0f8-9419952ab543",
   "metadata": {},
   "outputs": [
    {
     "name": "stdout",
     "output_type": "stream",
     "text": [
      "Null values per column: {'abstract_id': 0, 'text': 0, 'location': 0, 'label': 0}\n"
     ]
    }
   ],
   "source": [
    "# Example code to check for null values in each column\n",
    "null_counts = {column: 0 for column in ['abstract_id', 'text', 'location', 'label']}\n",
    "for example in dataset:\n",
    "    for column in null_counts:\n",
    "        if example[column] is None:\n",
    "            null_counts[column] += 1\n",
    "print(\"Null values per column:\", null_counts)\n"
   ]
  },
  {
   "cell_type": "code",
   "execution_count": 7,
   "id": "f945ee84-1d98-4651-ab44-5b30c96e5582",
   "metadata": {},
   "outputs": [
    {
     "name": "stdout",
     "output_type": "stream",
     "text": [
      "{'abstract_id': 14145090, 'text': 'velvet antlers vas are commonly used in traditional chinese medicine and invigorant and contain many PET components for health promotion the velvet antler peptide svap is one of active components in vas based on structural study the svap interacts with tgfÎ² receptors and disrupts the tgfÎ² pathway we hypothesized that svap prevents cardiac fibrosis from pressure overload by blocking tgfÎ² signaling SDRs underwent TAC tac or a sham operation T3 one month rats received either svap mgkgday or vehicle for an additional one month tac surgery induced significant cardiac dysfunction FB activation and fibrosis these effects were improved by treatment with svap in the heart tissue tac remarkably increased the expression of tgfÎ² and connective tissue growth factor ctgf ROS species C2 and the phosphorylation C2 of smad and ERK kinases erk svap inhibited the increases in reactive oxygen species C2 ctgf expression and the phosphorylation of smad and erk but not tgfÎ² expression in cultured cardiac fibroblasts angiotensin ii ang ii had similar effects compared to tac surgery such as increases in Î±smapositive CFs and collagen synthesis svap eliminated these effects by disrupting tgfÎ² IB to its receptors and blocking ang iitgfÎ² downstream signaling these results demonstrated that svap has antifibrotic effects by blocking the tgfÎ² pathway in CFs', 'location': [63], 'label': ['transverse aortic constriction']}\n",
      "{'abstract_id': 14145090, 'text': 'velvet antlers vas are commonly used in traditional chinese medicine and invigorant and contain many PET components for health promotion the velvet antler peptide svap is one of active components in vas based on structural study the svap interacts with tgfÎ² receptors and disrupts the tgfÎ² pathway we hypothesized that svap prevents cardiac fibrosis from pressure overload by blocking tgfÎ² signaling SDRs underwent TAC tac or a sham operation T3 one month rats received either svap mgkgday or vehicle for an additional one month tac surgery induced significant cardiac dysfunction FB activation and fibrosis these effects were improved by treatment with svap in the heart tissue tac remarkably increased the expression of tgfÎ² and connective tissue growth factor ctgf ROS species C2 and the phosphorylation C2 of smad and ERK kinases erk svap inhibited the increases in reactive oxygen species C2 ctgf expression and the phosphorylation of smad and erk but not tgfÎ² expression in cultured cardiac fibroblasts angiotensin ii ang ii had similar effects compared to tac surgery such as increases in Î±smapositive CFs and collagen synthesis svap eliminated these effects by disrupting tgfÎ² IB to its receptors and blocking ang iitgfÎ² downstream signaling these results demonstrated that svap has antifibrotic effects by blocking the tgfÎ² pathway in CFs', 'location': [63], 'label': ['transverse aortic constriction']}\n",
      "{'abstract_id': 14145090, 'text': 'velvet antlers vas are commonly used in traditional chinese medicine and invigorant and contain many PET components for health promotion the velvet antler peptide svap is one of active components in vas based on structural study the svap interacts with tgfÎ² receptors and disrupts the tgfÎ² pathway we hypothesized that svap prevents cardiac fibrosis from pressure overload by blocking tgfÎ² signaling SDRs underwent TAC tac or a sham operation T3 one month rats received either svap mgkgday or vehicle for an additional one month tac surgery induced significant cardiac dysfunction FB activation and fibrosis these effects were improved by treatment with svap in the heart tissue tac remarkably increased the expression of tgfÎ² and connective tissue growth factor ctgf ROS species C2 and the phosphorylation C2 of smad and ERK kinases erk svap inhibited the increases in reactive oxygen species C2 ctgf expression and the phosphorylation of smad and erk but not tgfÎ² expression in cultured cardiac fibroblasts angiotensin ii ang ii had similar effects compared to tac surgery such as increases in Î±smapositive CFs and collagen synthesis svap eliminated these effects by disrupting tgfÎ² IB to its receptors and blocking ang iitgfÎ² downstream signaling these results demonstrated that svap has antifibrotic effects by blocking the tgfÎ² pathway in CFs', 'location': [63], 'label': ['transverse aortic constriction']}\n",
      "{'abstract_id': 14145090, 'text': 'velvet antlers vas are commonly used in traditional chinese medicine and invigorant and contain many PET components for health promotion the velvet antler peptide svap is one of active components in vas based on structural study the svap interacts with tgfÎ² receptors and disrupts the tgfÎ² pathway we hypothesized that svap prevents cardiac fibrosis from pressure overload by blocking tgfÎ² signaling SDRs underwent TAC tac or a sham operation T3 one month rats received either svap mgkgday or vehicle for an additional one month tac surgery induced significant cardiac dysfunction FB activation and fibrosis these effects were improved by treatment with svap in the heart tissue tac remarkably increased the expression of tgfÎ² and connective tissue growth factor ctgf ROS species C2 and the phosphorylation C2 of smad and ERK kinases erk svap inhibited the increases in reactive oxygen species C2 ctgf expression and the phosphorylation of smad and erk but not tgfÎ² expression in cultured cardiac fibroblasts angiotensin ii ang ii had similar effects compared to tac surgery such as increases in Î±smapositive CFs and collagen synthesis svap eliminated these effects by disrupting tgfÎ² IB to its receptors and blocking ang iitgfÎ² downstream signaling these results demonstrated that svap has antifibrotic effects by blocking the tgfÎ² pathway in CFs', 'location': [63], 'label': ['transverse aortic constriction']}\n",
      "{'abstract_id': 14145090, 'text': 'velvet antlers vas are commonly used in traditional chinese medicine and invigorant and contain many PET components for health promotion the velvet antler peptide svap is one of active components in vas based on structural study the svap interacts with tgfÎ² receptors and disrupts the tgfÎ² pathway we hypothesized that svap prevents cardiac fibrosis from pressure overload by blocking tgfÎ² signaling SDRs underwent TAC tac or a sham operation T3 one month rats received either svap mgkgday or vehicle for an additional one month tac surgery induced significant cardiac dysfunction FB activation and fibrosis these effects were improved by treatment with svap in the heart tissue tac remarkably increased the expression of tgfÎ² and connective tissue growth factor ctgf ROS species C2 and the phosphorylation C2 of smad and ERK kinases erk svap inhibited the increases in reactive oxygen species C2 ctgf expression and the phosphorylation of smad and erk but not tgfÎ² expression in cultured cardiac fibroblasts angiotensin ii ang ii had similar effects compared to tac surgery such as increases in Î±smapositive CFs and collagen synthesis svap eliminated these effects by disrupting tgfÎ² IB to its receptors and blocking ang iitgfÎ² downstream signaling these results demonstrated that svap has antifibrotic effects by blocking the tgfÎ² pathway in CFs', 'location': [63], 'label': ['transverse aortic constriction']}\n"
     ]
    }
   ],
   "source": [
    "# Preview the first few records\n",
    "preview_count = 5  # Number of records to preview\n",
    "preview_data = [next(iter(dataset)) for _ in range(preview_count)]\n",
    "for record in preview_data:\n",
    "    print(record)\n"
   ]
  },
  {
   "cell_type": "code",
   "execution_count": null,
   "id": "758c14e3-2a07-483e-975c-6170233ffaea",
   "metadata": {},
   "outputs": [],
   "source": [
    "%pip install datasets transformers nltk\n"
   ]
  },
  {
   "cell_type": "code",
   "execution_count": null,
   "id": "7ca21bd7",
   "metadata": {},
   "outputs": [],
   "source": [
    "# Import libraries\n",
    "import re\n",
    "import nltk\n",
    "from datasets import load_dataset\n",
    "\n",
    "# Download necessary NLTK data\n",
    "nltk.download('punkt')\n",
    "nltk.download('stopwords')\n",
    "nltk.download('wordnet')\n",
    "\n",
    "from nltk.corpus import stopwords\n",
    "from nltk.tokenize import word_tokenize\n",
    "from nltk.stem import WordNetLemmatizer\n"
   ]
  },
  {
   "cell_type": "code",
   "execution_count": 11,
   "id": "df0f620e",
   "metadata": {},
   "outputs": [],
   "source": [
    "# Initialize required objects\n",
    "stop_words = set(stopwords.words('english'))\n",
    "lemmatizer = WordNetLemmatizer()\n"
   ]
  },
  {
   "cell_type": "code",
   "execution_count": 18,
   "id": "f535535a",
   "metadata": {},
   "outputs": [],
   "source": [
    "# Define preprocessing function for text\n",
    "def clean_text(text):\n",
    "    # Lowercase\n",
    "    text = text.lower()\n",
    "    # Remove special characters and numbers\n",
    "    text = re.sub(r'[^a-zA-Z\\s]', '', text)\n",
    "    # Tokenize\n",
    "    tokens = word_tokenize(text)\n",
    "    # Remove stopwords\n",
    "    tokens = [word for word in tokens if word not in stop_words]\n",
    "    # Lemmatize tokens\n",
    "    tokens = [lemmatizer.lemmatize(word) for word in tokens]\n",
    "    return ' '.join(tokens)\n",
    "\n",
    "# Define preprocessing function for each example\n",
    "def preprocess_example(example):\n",
    "    # Preprocess text column\n",
    "    example['text'] = clean_text(example['text'])\n",
    "    \n",
    "    # Preprocess location column (e.g., handle missing values, standardize)\n",
    "    if isinstance(example['location'], str):\n",
    "        example['location'] = example['location'].strip().lower() if example['location'].strip() else 'unknown'\n",
    "    else:\n",
    "        example['location'] = 'unknown'\n",
    "    \n",
    "    # Optional: handle label column (e.g., encoding, balancing)\n",
    "    return example\n",
    "\n"
   ]
  },
  {
   "cell_type": "code",
   "execution_count": 19,
   "id": "41ee340a",
   "metadata": {},
   "outputs": [],
   "source": [
    "# Preprocess the dataset by applying the preprocess_example function\n",
    "preprocessed_dataset = map(preprocess_example, dataset)\n",
    "\n"
   ]
  },
  {
   "cell_type": "code",
   "execution_count": 20,
   "id": "8a29e52f",
   "metadata": {},
   "outputs": [
    {
     "name": "stdout",
     "output_type": "stream",
     "text": [
      "Example 1:\n",
      " {'abstract_id': 14145090, 'text': 'velvet antler va commonly used traditional chinese medicine invigorant contain many pet component health promotion velvet antler peptide svap one active component va based structural study svap interacts tgf receptor disrupts tgf pathway hypothesized svap prevents cardiac fibrosis pressure overload blocking tgf signaling sdrs underwent tac tac sham operation one month rat received either svap mgkgday vehicle additional one month tac surgery induced significant cardiac dysfunction fb activation fibrosis effect improved treatment svap heart tissue tac remarkably increased expression tgf connective tissue growth factor ctgf ro specie c phosphorylation c smad erk kinase erk svap inhibited increase reactive oxygen specie c ctgf expression phosphorylation smad erk tgf expression cultured cardiac fibroblast angiotensin ii ang ii similar effect compared tac surgery increase smapositive cf collagen synthesis svap eliminated effect disrupting tgf ib receptor blocking ang iitgf downstream signaling result demonstrated svap antifibrotic effect blocking tgf pathway cf', 'location': 'unknown', 'label': ['transverse aortic constriction']} \n",
      "\n",
      "Example 2:\n",
      " {'abstract_id': 1900667, 'text': 'clinical feature case demonstrated already known characteristic variable spectrum hiv infection da important risk category italy arc case evolved aid month followup average frequent oi aid case pcp c albicans esophagitis chronic mucocutaneous ulcer high percentage neurologic involvement hiv observed hm encountered aid k undifferentiated b lymphoma well arc hd statistically significant worsening immunologic situation evident disease progress la aid g b lymphocyte represent cell germinal center hyperplastic stage lymphadenopathy reversal tt ratio appears early initial stage lymphadenopathy due decrease cd relative increase cd also destruction follicular dendritic cell early feature becomes evident disease advance lymph node evolves toward progressive involution activated blymphocyte augmentation polyclonal ig secretion appears related ti b stimulation coinfection cmv ebv hbv increase cd lymphocyte seems partly related excessive activation b lymphocyte partially directed cell inf hiv coated protein destruction follicular dendritic cell interpreted killer effect virus also result intervention ctl sensitized cell containing virus destruction may contribute impaired recognition soluble antigen one main feature immune deficiency hiv infection', 'location': 'unknown', 'label': ['hodgkins lymphoma']} \n",
      "\n",
      "Example 3:\n",
      " {'abstract_id': 8625554, 'text': 'ceftobiprole bpr investigational cephalosporin activity staphylococcus aureus including methicillinresistant aureus mrsa strain pharmacodynamic pd profile bpr aureus strain variety susceptibility phenotype immunocompromised murine pneumonia model characterized bpr mics test isolates ranged mugml pharmacokinetic pk study conducted infected neutropenic balbc mouse bpr concentration measured plasma epithelial lining fluid elf lung tissue pd study mouse undertaken eight aureus isolates two mssa strain three hospitalacquired mrsa strain three ca mrsa strain subcutaneous bpr dos mgkg body weightday administered nc number log cfuml lung evaluated h therapy pd profile characterized using free drug exposure f determined following parameter percentage time concentration greater mic mic cmax serummic area concentrationtime curvemic bpr pk parameter linear dose range studied plasma elf concentration ranged free plasma concentration ft mic parameter best correlated tau diverse array aureus isolates mu pneumonia model effective dose ed ed stasis exposure appeared similar among isolates studied bpr exerted maximal antibacterial effect ft mic ranged regardless phenotypic profile resistance betalactam fluoroquinolone erythromycin clindamycin tc', 'location': 'unknown', 'label': ['methicillinsusceptible s aureus']} \n",
      "\n",
      "Example 4:\n",
      " {'abstract_id': 8157202, 'text': 'taken basic biologic rpa elucidate pathophysiology bpd bpd cld based cellmolecular mechanism physiologic lung od stretch coordinate pthrp pthrp signaling atii cell mesoderm coordinately upregulate key gene homeostatic fb phenotype including peroxisome proliferator g trg ppargamma adipocyte differentiation related protein adrp ob retrograde stimulation type ii cell surfactant synthesis leptin paracrine interaction requires cellspecific receptor adjacent cell derived mesoderm endoderm respectively serially upregulate signaling pathway within celltype pet compartmentation key understanding specific agonist antagonist predictably affect mechanism homeostasis using wide variety pathophysiologic insult associated bpd barotrauma oxotrauma infection found type ii cell andor fb cellmolecular effect generated insult lead bpd phenotype exploited cellspecific mechanism effectively prevent treat lung injury using ppargamma agonist sustain signaling pathway critically important judiciously select physiologically developmentally relevant intervention treating preterm neonate', 'location': 'unknown', 'label': ['parathyroid hormonerelated protein']} \n",
      "\n",
      "Example 5:\n",
      " {'abstract_id': 6784974, 'text': 'lipoperoxidationderived aldehyde example mda mda damage protein generating covalent adduct whose accumulation probably participates tissue damage aging however mechanism adduct formation stability scarcely known article investigates whether oxidative step involved process mm process interaction mda bovine s al bsa analyzed incubation bsa mda resulted rapid quenching tryptophan fluorescence appearance mda protein adduct fluorescence transition metal ion trace interfered latter process mda induced generation peroxide bsa preventable antioxidant bht bht mdaexposed bsa underwent aggregation degradation bhtsensitive gel retardation effect phycoerythrin fluorescence disappearance marker damage mediated ro specie indicated synergism mda metal ion interaction reactive aldehyde protein likely occur several step oxidative nature giving rise lpo endproducts could participate age generation tissue damage aging', 'location': 'unknown', 'label': ['lipoperoxidation']} \n",
      "\n"
     ]
    }
   ],
   "source": [
    "# Iterate through the first 5 preprocessed examples and print them\n",
    "for i, example in enumerate(preprocessed_dataset):\n",
    "    if i < 5:\n",
    "        print(f\"Example {i + 1}:\\n\", example, \"\\n\")\n",
    "    else:\n",
    "        break\n",
    "\n"
   ]
  },
  {
   "cell_type": "code",
   "execution_count": 21,
   "id": "5f8784a5",
   "metadata": {},
   "outputs": [],
   "source": [
    "def clean_text(text):\n",
    "    # Lowercase\n",
    "    text = text.lower()\n",
    "    # Remove specific unwanted characters but keep medical symbols or abbreviations\n",
    "    text = re.sub(r'[^a-zA-Z0-9\\s-]', '', text)\n",
    "    # Tokenize and remove stopwords\n",
    "    tokens = word_tokenize(text)\n",
    "    tokens = [word for word in tokens if word not in stop_words]\n",
    "    # Lemmatize tokens\n",
    "    tokens = [lemmatizer.lemmatize(word) for word in tokens]\n",
    "    return ' '.join(tokens)\n"
   ]
  },
  {
   "cell_type": "code",
   "execution_count": 23,
   "id": "78a0e85a",
   "metadata": {},
   "outputs": [
    {
     "name": "stdout",
     "output_type": "stream",
     "text": [
      "Total abstract_id entries: 3000000\n",
      "Unique abstract_id entries: 2531051\n",
      "Are all abstract_id unique? No\n"
     ]
    }
   ],
   "source": [
    "# Collect a sample of 'abstract_id' values\n",
    "sample_abstract_ids = [example['abstract_id'] for example in dataset]\n",
    "\n",
    "# Convert to a set to check uniqueness\n",
    "unique_ids = len(set(sample_abstract_ids))\n",
    "total_ids = len(sample_abstract_ids)\n",
    "\n",
    "print(f\"Total abstract_id entries: {total_ids}\")\n",
    "print(f\"Unique abstract_id entries: {unique_ids}\")\n",
    "print(f\"Are all abstract_id unique? {'Yes' if unique_ids == total_ids else 'No'}\")\n"
   ]
  },
  {
   "cell_type": "code",
   "execution_count": 24,
   "id": "5ee0ca77",
   "metadata": {},
   "outputs": [
    {
     "name": "stdout",
     "output_type": "stream",
     "text": [
      "Number of duplicate abstract_id entries: 379515\n",
      "Some duplicate abstract_ids and their counts: [(1900667, 3), (8625554, 2), (9441271, 2), (4015815, 2), (7599020, 2), (373515, 2), (4578351, 2), (5432442, 6), (3937052, 2), (2272969, 3)]\n"
     ]
    }
   ],
   "source": [
    "from collections import Counter\n",
    "\n",
    "# Count occurrences of each abstract_id\n",
    "id_counts = Counter(sample_abstract_ids)\n",
    "\n",
    "# Identify duplicate IDs\n",
    "duplicate_ids = {id_: count for id_, count in id_counts.items() if count > 1}\n",
    "print(f\"Number of duplicate abstract_id entries: {len(duplicate_ids)}\")\n",
    "print(f\"Some duplicate abstract_ids and their counts: {list(duplicate_ids.items())[:10]}\")\n"
   ]
  },
  {
   "cell_type": "code",
   "execution_count": 29,
   "id": "6b88ba29",
   "metadata": {},
   "outputs": [
    {
     "name": "stdout",
     "output_type": "stream",
     "text": [
      "Number of unique entries: 2531051\n"
     ]
    }
   ],
   "source": [
    "from collections import defaultdict\n",
    "\n",
    "# Initialize a set to keep track of seen abstract_ids\n",
    "seen_ids = set()\n",
    "unique_entries = []\n",
    "\n",
    "# Iterate over the dataset\n",
    "for example in dataset:\n",
    "    abstract_id = example['abstract_id']\n",
    "    \n",
    "    # Check if abstract_id is already seen\n",
    "    if abstract_id not in seen_ids:\n",
    "        # Add to set and list of unique entries\n",
    "        seen_ids.add(abstract_id)\n",
    "        unique_entries.append(example)\n",
    "\n",
    "# If you need to process unique_entries further or save them\n",
    "import pandas as pd\n",
    "\n",
    "# Convert unique_entries to a DataFrame for further analysis\n",
    "df_unique = pd.DataFrame(unique_entries)\n",
    "\n",
    "# Print the number of unique entries\n",
    "print(f\"Number of unique entries: {len(df_unique)}\")\n",
    "\n"
   ]
  },
  {
   "cell_type": "code",
   "execution_count": null,
   "id": "38a81584",
   "metadata": {},
   "outputs": [],
   "source": []
  }
 ],
 "metadata": {
  "kernelspec": {
   "display_name": "Python 3 (ipykernel)",
   "language": "python",
   "name": "python3"
  },
  "language_info": {
   "codemirror_mode": {
    "name": "ipython",
    "version": 3
   },
   "file_extension": ".py",
   "mimetype": "text/x-python",
   "name": "python",
   "nbconvert_exporter": "python",
   "pygments_lexer": "ipython3",
   "version": "3.12.4"
  }
 },
 "nbformat": 4,
 "nbformat_minor": 5
}
